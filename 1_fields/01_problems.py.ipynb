{
 "cells": [
  {
   "cell_type": "code",
   "execution_count": 10,
   "id": "dress-spiritual",
   "metadata": {},
   "outputs": [],
   "source": [
    "from functools import reduce"
   ]
  },
  {
   "cell_type": "code",
   "execution_count": 1,
   "id": "australian-broadcasting",
   "metadata": {},
   "outputs": [],
   "source": [
    "def my_filter(L, n):\n",
    "    return [x for x in L if x % n != 0]"
   ]
  },
  {
   "cell_type": "code",
   "execution_count": 2,
   "id": "starting-verification",
   "metadata": {},
   "outputs": [
    {
     "data": {
      "text/plain": [
       "[1, 2, 4, 5, 7, 8, 10, 11]"
      ]
     },
     "execution_count": 2,
     "metadata": {},
     "output_type": "execute_result"
    }
   ],
   "source": [
    "my_filter(list(range(12)), 3)"
   ]
  },
  {
   "cell_type": "code",
   "execution_count": 4,
   "id": "crude-detail",
   "metadata": {},
   "outputs": [],
   "source": [
    "def my_lists(L):\n",
    "    return [list(range(1, x + 1)) for x in L]"
   ]
  },
  {
   "cell_type": "code",
   "execution_count": 5,
   "id": "entire-jimmy",
   "metadata": {},
   "outputs": [
    {
     "data": {
      "text/plain": [
       "[[1], [1, 2], [1, 2, 3, 4]]"
      ]
     },
     "execution_count": 5,
     "metadata": {},
     "output_type": "execute_result"
    }
   ],
   "source": [
    "my_lists([1, 2, 4])"
   ]
  },
  {
   "cell_type": "code",
   "execution_count": 6,
   "id": "martial-bachelor",
   "metadata": {},
   "outputs": [],
   "source": [
    "def my_func_comp(f, g):\n",
    "    return {k: g[v] for k, v in f.items()}"
   ]
  },
  {
   "cell_type": "code",
   "execution_count": 7,
   "id": "monetary-hamilton",
   "metadata": {},
   "outputs": [
    {
     "data": {
      "text/plain": [
       "{0: 'apple', 1: 'banana'}"
      ]
     },
     "execution_count": 7,
     "metadata": {},
     "output_type": "execute_result"
    }
   ],
   "source": [
    "f = {0: 'a', 1: 'b'}\n",
    "g = {'a': 'apple', 'b': 'banana'}\n",
    "my_func_comp(f, g)"
   ]
  },
  {
   "cell_type": "code",
   "execution_count": 8,
   "id": "ecological-legislation",
   "metadata": {},
   "outputs": [],
   "source": [
    "def my_sum(L):\n",
    "    total = 0\n",
    "    for x in L:\n",
    "        total += x\n",
    "    return total"
   ]
  },
  {
   "cell_type": "code",
   "execution_count": 9,
   "id": "everyday-albania",
   "metadata": {},
   "outputs": [],
   "source": [
    "def my_sum2(L):\n",
    "    return sum(L)"
   ]
  },
  {
   "cell_type": "code",
   "execution_count": 11,
   "id": "enclosed-algeria",
   "metadata": {},
   "outputs": [],
   "source": [
    "def my_sum3(L):\n",
    "    return reduce(lambda a, b: a + b, L)"
   ]
  },
  {
   "cell_type": "code",
   "execution_count": 12,
   "id": "liquid-finnish",
   "metadata": {},
   "outputs": [
    {
     "data": {
      "text/plain": [
       "(33, 33, 33)"
      ]
     },
     "execution_count": 12,
     "metadata": {},
     "output_type": "execute_result"
    }
   ],
   "source": [
    "L = [1, 1, 2, 3, 5, 8, 13]\n",
    "my_sum(L), my_sum2(L), my_sum3(L)"
   ]
  },
  {
   "cell_type": "code",
   "execution_count": 14,
   "id": "three-agenda",
   "metadata": {},
   "outputs": [],
   "source": [
    "def my_prod(L):\n",
    "    prod = 1\n",
    "    for x in L:\n",
    "        prod *= x\n",
    "    return prod"
   ]
  },
  {
   "cell_type": "code",
   "execution_count": 27,
   "id": "analyzed-folks",
   "metadata": {},
   "outputs": [],
   "source": [
    "def my_prod2(L):\n",
    "    return reduce(lambda a, b: a * b, L, 1)"
   ]
  },
  {
   "cell_type": "code",
   "execution_count": 28,
   "id": "successful-skiing",
   "metadata": {},
   "outputs": [
    {
     "data": {
      "text/plain": [
       "(3120, 3120)"
      ]
     },
     "execution_count": 28,
     "metadata": {},
     "output_type": "execute_result"
    }
   ],
   "source": [
    "my_prod(L), my_prod2(L)"
   ]
  },
  {
   "cell_type": "code",
   "execution_count": 29,
   "id": "creative-priest",
   "metadata": {},
   "outputs": [],
   "source": [
    "def my_min(L):\n",
    "    mn = L[0]\n",
    "    for x in L[1:]:\n",
    "        if x < mn:\n",
    "            mn = x\n",
    "    return mn"
   ]
  },
  {
   "cell_type": "code",
   "execution_count": 30,
   "id": "awful-study",
   "metadata": {},
   "outputs": [],
   "source": [
    "def my_min2(L):\n",
    "    return min(L)"
   ]
  },
  {
   "cell_type": "code",
   "execution_count": 33,
   "id": "funky-wyoming",
   "metadata": {},
   "outputs": [],
   "source": [
    "def my_min3(L):\n",
    "    return reduce(lambda a, b: a if a < b else b, L)"
   ]
  },
  {
   "cell_type": "code",
   "execution_count": 34,
   "id": "breeding-haven",
   "metadata": {},
   "outputs": [
    {
     "data": {
      "text/plain": [
       "(1, 1, 1)"
      ]
     },
     "execution_count": 34,
     "metadata": {},
     "output_type": "execute_result"
    }
   ],
   "source": [
    "my_min(L), my_min2(L), my_min3(L)"
   ]
  },
  {
   "cell_type": "code",
   "execution_count": 35,
   "id": "spectacular-blair",
   "metadata": {},
   "outputs": [],
   "source": [
    "def my_concat(L):\n",
    "    out = ''\n",
    "    for x in L:\n",
    "        out += str(x)\n",
    "    return out"
   ]
  },
  {
   "cell_type": "code",
   "execution_count": 41,
   "id": "victorian-stability",
   "metadata": {},
   "outputs": [],
   "source": [
    "def my_concat2(L):\n",
    "    return ''.join([str(x) for x in L])"
   ]
  },
  {
   "cell_type": "code",
   "execution_count": 42,
   "id": "uniform-brazilian",
   "metadata": {},
   "outputs": [],
   "source": [
    "def my_concat3(L):\n",
    "    return reduce(lambda a, b: f'{a}{b}', L, '')"
   ]
  },
  {
   "cell_type": "code",
   "execution_count": 43,
   "id": "complete-senior",
   "metadata": {},
   "outputs": [
    {
     "data": {
      "text/plain": [
       "('11235813', '11235813', '11235813')"
      ]
     },
     "execution_count": 43,
     "metadata": {},
     "output_type": "execute_result"
    }
   ],
   "source": [
    "my_concat(L), my_concat2(L), my_concat3(L)"
   ]
  },
  {
   "cell_type": "code",
   "execution_count": 44,
   "id": "external-perth",
   "metadata": {},
   "outputs": [],
   "source": [
    "def my_union(L):\n",
    "    out = set()\n",
    "    for s in L:\n",
    "        out = out.union(s)\n",
    "    return out"
   ]
  },
  {
   "cell_type": "code",
   "execution_count": 47,
   "id": "parallel-sister",
   "metadata": {},
   "outputs": [],
   "source": [
    "def my_union2(L):\n",
    "    return reduce(lambda a, b: a.union(b), L, set())"
   ]
  },
  {
   "cell_type": "code",
   "execution_count": 48,
   "id": "confident-intervention",
   "metadata": {},
   "outputs": [
    {
     "data": {
      "text/plain": [
       "({1, 2, 3, 4, 5}, {1, 2, 3, 4, 5})"
      ]
     },
     "execution_count": 48,
     "metadata": {},
     "output_type": "execute_result"
    }
   ],
   "source": [
    "L = [{1}, {2, 4}, {1, 3, 5}]\n",
    "my_union(L), my_union2(L)"
   ]
  },
  {
   "cell_type": "code",
   "execution_count": 1,
   "id": "driving-costa",
   "metadata": {},
   "outputs": [],
   "source": [
    "def transform(a, b, L):\n",
    "    '''\n",
    "    a, b: (complex)\n",
    "    L: (list of complex)\n",
    "    '''\n",
    "    f = lambda z: a * z + b\n",
    "    return [f(z) for z in L]"
   ]
  },
  {
   "cell_type": "code",
   "execution_count": 2,
   "id": "balanced-green",
   "metadata": {},
   "outputs": [
    {
     "data": {
      "text/plain": [
       "[(2-2j), (1-1j), (3-1j), (2+0j)]"
      ]
     },
     "execution_count": 2,
     "metadata": {},
     "output_type": "execute_result"
    }
   ],
   "source": [
    "a = 1 + 1j\n",
    "b = 2 - 2j\n",
    "L = [0+0j, 0+1j, 1+0j, 1+1j]\n",
    "transform(a, b, L)"
   ]
  },
  {
   "cell_type": "code",
   "execution_count": null,
   "id": "intensive-rebecca",
   "metadata": {},
   "outputs": [],
   "source": []
  }
 ],
 "metadata": {
  "kernelspec": {
   "display_name": "Python 3",
   "language": "python",
   "name": "python3"
  },
  "language_info": {
   "codemirror_mode": {
    "name": "ipython",
    "version": 3
   },
   "file_extension": ".py",
   "mimetype": "text/x-python",
   "name": "python",
   "nbconvert_exporter": "python",
   "pygments_lexer": "ipython3",
   "version": "3.8.8"
  }
 },
 "nbformat": 4,
 "nbformat_minor": 5
}
