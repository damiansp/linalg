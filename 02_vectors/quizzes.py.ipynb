{
 "cells": [
  {
   "cell_type": "code",
   "execution_count": 1,
   "id": "closed-sessions",
   "metadata": {},
   "outputs": [],
   "source": [
    "import numpy as np"
   ]
  },
  {
   "cell_type": "code",
   "execution_count": 9,
   "id": "sensitive-committee",
   "metadata": {},
   "outputs": [],
   "source": [
    "haystack = [1, -1, 1, 1, 1, -1, 1, 1, 1]\n",
    "needle = np.array([1, -1, 1, 1, -1, 1])"
   ]
  },
  {
   "cell_type": "code",
   "execution_count": 10,
   "id": "adopted-hardware",
   "metadata": {},
   "outputs": [
    {
     "data": {
      "text/plain": [
       "6"
      ]
     },
     "execution_count": 10,
     "metadata": {},
     "output_type": "execute_result"
    }
   ],
   "source": [
    "nsamp = len(needle)\n",
    "nsamp"
   ]
  },
  {
   "cell_type": "code",
   "execution_count": 11,
   "id": "scenic-future",
   "metadata": {},
   "outputs": [],
   "source": [
    "def compare(needle, haystack):\n",
    "    nsamp = len(needle)\n",
    "    for pos in range(len(haystack) - nsamp + 1):\n",
    "        comp = np.array(haystack[pos:pos + nsamp])\n",
    "        score = np.dot(needle, comp)\n",
    "        print(f'\\nPosition {pos}:\\n  {comp}\\n  {needle} score: {score}')"
   ]
  },
  {
   "cell_type": "code",
   "execution_count": 12,
   "id": "standard-tonight",
   "metadata": {},
   "outputs": [
    {
     "name": "stdout",
     "output_type": "stream",
     "text": [
      "\n",
      "Position 0:\n",
      "  [ 1 -1  1  1  1 -1]\n",
      "  [ 1 -1  1  1 -1  1] score: 2\n",
      "\n",
      "Position 1:\n",
      "  [-1  1  1  1 -1  1]\n",
      "  [ 1 -1  1  1 -1  1] score: 2\n",
      "\n",
      "Position 2:\n",
      "  [ 1  1  1 -1  1  1]\n",
      "  [ 1 -1  1  1 -1  1] score: 0\n",
      "\n",
      "Position 3:\n",
      "  [ 1  1 -1  1  1  1]\n",
      "  [ 1 -1  1  1 -1  1] score: 0\n"
     ]
    }
   ],
   "source": [
    "compare(needle, haystack)"
   ]
  },
  {
   "cell_type": "code",
   "execution_count": 13,
   "id": "greek-maker",
   "metadata": {},
   "outputs": [
    {
     "name": "stdout",
     "output_type": "stream",
     "text": [
      "\n",
      "Position 0:\n",
      "  [1 2 3]\n",
      "  [1 2 3] score: 14\n",
      "\n",
      "Position 1:\n",
      "  [2 3 4]\n",
      "  [1 2 3] score: 20\n",
      "\n",
      "Position 2:\n",
      "  [3 4 5]\n",
      "  [1 2 3] score: 26\n",
      "\n",
      "Position 3:\n",
      "  [4 5 6]\n",
      "  [1 2 3] score: 32\n"
     ]
    }
   ],
   "source": [
    "haystack = [1, 2, 3, 4, 5, 6]\n",
    "needle = np.array([1, 2, 3])\n",
    "compare(needle, haystack)"
   ]
  },
  {
   "cell_type": "code",
   "execution_count": null,
   "id": "outstanding-darwin",
   "metadata": {},
   "outputs": [],
   "source": []
  },
  {
   "cell_type": "code",
   "execution_count": null,
   "id": "uniform-seeking",
   "metadata": {},
   "outputs": [],
   "source": []
  }
 ],
 "metadata": {
  "kernelspec": {
   "display_name": "Python 3",
   "language": "python",
   "name": "python3"
  },
  "language_info": {
   "codemirror_mode": {
    "name": "ipython",
    "version": 3
   },
   "file_extension": ".py",
   "mimetype": "text/x-python",
   "name": "python",
   "nbconvert_exporter": "python",
   "pygments_lexer": "ipython3",
   "version": "3.8.8"
  }
 },
 "nbformat": 4,
 "nbformat_minor": 5
}
